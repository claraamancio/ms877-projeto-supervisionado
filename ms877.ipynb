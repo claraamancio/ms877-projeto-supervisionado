{
  "nbformat": 4,
  "nbformat_minor": 0,
  "metadata": {
    "colab": {
      "provenance": []
    },
    "kernelspec": {
      "name": "python3",
      "display_name": "Python 3"
    },
    "language_info": {
      "name": "python"
    }
  },
  "cells": [
    {
      "cell_type": "markdown",
      "source": [
        "# **Importar Bibliotecas**"
      ],
      "metadata": {
        "id": "eiZlVBSq_OnL"
      }
    },
    {
      "cell_type": "code",
      "execution_count": null,
      "metadata": {
        "id": "QddxezaM4oa9"
      },
      "outputs": [],
      "source": [
        "import cvxpy as cp\n",
        "import numpy as np\n",
        "from sklearn.datasets import make_blobs\n",
        "from sklearn.model_selection import train_test_split\n",
        "from cvxopt import matrix as cvxopt_matrix\n",
        "from cvxopt import solvers as cvxopt_solvers\n",
        "import matplotlib.pyplot as plt\n",
        "from sklearn.svm import SVC\n",
        "from sklearn.metrics import accuracy_score\n",
        "from sklearn.inspection import DecisionBoundaryDisplay"
      ]
    },
    {
      "cell_type": "markdown",
      "source": [
        "# **Criação e Plot dos Conjuntos de Dados Utilizados**"
      ],
      "metadata": {
        "id": "2Ts9Rp9A_WM2"
      }
    },
    {
      "cell_type": "code",
      "source": [
        "X1, d1 = make_blobs(n_samples=20, centers=2, n_features=2,random_state=0)\n",
        "d1 = 2*d1-1\n",
        "\n",
        "X2, d2 = make_blobs(n_samples=100, centers=2, cluster_std =4 , n_features=2,random_state=17)\n",
        "d2 = 2*np.mod(d2,2) -1\n",
        "\n",
        "fig = plt.figure()\n",
        "plt.scatter(X1[:, 0], X1[:, 1], c=d1)\n",
        "plt.xlabel('A1')\n",
        "plt.ylabel('B1')\n",
        "plt.title('Primeiro Conjunto de Dados')\n",
        "plt.legend()\n",
        "plt.show()\n",
        "\n",
        "fig = plt.figure()\n",
        "plt.scatter(X2[:, 0], X2[:, 1], c=d2)\n",
        "plt.xlabel('A2')\n",
        "plt.ylabel('B2')\n",
        "plt.title('Segundo Conjunto de Dados')\n",
        "plt.legend()\n",
        "plt.show()"
      ],
      "metadata": {
        "id": "Yj7pDvrv_bv7"
      },
      "execution_count": null,
      "outputs": []
    },
    {
      "cell_type": "markdown",
      "source": [
        "# **Problema Primal - Hard Margin**"
      ],
      "metadata": {
        "id": "2AqsHXzY-xg7"
      }
    },
    {
      "cell_type": "code",
      "source": [
        "# Resolução do Problema de Otimização\n",
        "X1, d1 = make_blobs(n_samples=20, centers=2, n_features=2,random_state=0)\n",
        "d1 = 2*d1-1\n",
        "\n",
        "X2, d2 = make_blobs(n_samples=100, centers=2, cluster_std =4 , n_features=2,random_state=17)\n",
        "d2 = 2*np.mod(d2,2) -1\n",
        "\n",
        "def primalhm(X,d):\n",
        "  m,n = X.shape\n",
        "\n",
        "  W = cp.Variable(n)\n",
        "  b = cp.Variable()\n",
        "  P = np.ones((n, n))\n",
        "  G = cp.multiply(d ,X @ W + np.ones(m)*b)\n",
        "  h = np.ones(m)\n",
        "\n",
        "  prob = cp.Problem(cp.Minimize((1/2)*cp.quad_form(W, P)),\n",
        "                 [G >= h])\n",
        "  prob.solve()\n",
        "\n",
        "  w = np.ravel(W.value).reshape(-1,1)\n",
        "  B = np.ravel(b.value)\n",
        "  classificacao = np.sign(np.dot(X, w) + B)\n",
        "\n",
        "  return W.value, b.value, classificacao\n",
        "\n",
        "A1 = primalhm(X1,d1)\n",
        "print(A1)\n",
        "\n",
        "#Resultou em None para o seguinte caso:\n",
        "#A2 = primalhm(X2,d2)\n",
        "#print(A2)"
      ],
      "metadata": {
        "id": "pDxaH0R6-7e1"
      },
      "execution_count": null,
      "outputs": []
    },
    {
      "cell_type": "code",
      "source": [
        "# Plot\n",
        "X1, d1 = make_blobs(n_samples=20, centers=2, n_features=2,random_state=0)\n",
        "d1 = 2*d1-1\n",
        "\n",
        "X2, d2 = make_blobs(n_samples=100, centers=2, cluster_std =4 , n_features=2,random_state=17)\n",
        "d2 = 2*np.mod(d2,2) -1\n",
        "\n",
        "fig = plt.figure()\n",
        "w = A1[0]; b = A1[1]\n",
        "plt.scatter(X1[:, 0], X1[:, 1], c=d1)\n",
        "plt.plot(X1[:,0], - (w[0]/w[1])*X1[:,0] - b/w[1], color = 'red', label='Hiperplano Ótimo')\n",
        "plt.plot(X1[:,0], - (w[0]/w[1])*X1[:,0] - b/w[1] - 1/w[1], color = 'blue', label='Vetor Suporte')\n",
        "plt.plot(X1[:,0], - (w[0]/w[1])*X1[:,0] - b/w[1] + 1/w[1], color = 'green', label='Vetor Suporte')\n",
        "plt.xlabel('A1')\n",
        "plt.ylabel('B1')\n",
        "plt.title('Hiperplano ótimo encontrado através do problema primal para o primeiro conjunto de dados')\n",
        "plt.legend()\n",
        "plt.show()\n"
      ],
      "metadata": {
        "id": "db5dFhcLNSVo"
      },
      "execution_count": null,
      "outputs": []
    },
    {
      "cell_type": "markdown",
      "source": [
        "# **Problema Primal - Soft Margin**"
      ],
      "metadata": {
        "id": "eERLKXnf-_cJ"
      }
    },
    {
      "cell_type": "code",
      "source": [
        "# Resolução do Problema de Otimização\n",
        "X1, d1 = make_blobs(n_samples=20, centers=2, n_features=2,random_state=0)\n",
        "d1 = 2*d1-1\n",
        "\n",
        "X2, d2 = make_blobs(n_samples=100, centers=2, cluster_std =4 , n_features=2,random_state=17)\n",
        "d2 = 2*np.mod(d2,2) -1\n",
        "\n",
        "def primalsm(X,d):\n",
        "  c = 10\n",
        "\n",
        "  m,n = X.shape\n",
        "\n",
        "  W = cp.Variable(n)\n",
        "  b = cp.Variable()\n",
        "  Psi = cp.Variable(m)\n",
        "  P = np.ones((n, n))\n",
        "  G = cp.multiply(d ,X @ W + np.ones(m)*b)\n",
        "  h = np.ones(m)\n",
        "\n",
        "  prob = cp.Problem(cp.Minimize((1/2)*cp.quad_form(W, P) + c*cp.sum(Psi)),\n",
        "                 [G >= h - Psi,\n",
        "                  Psi >= 0])\n",
        "  prob.solve()\n",
        "\n",
        "  w = np.ravel(W.value).reshape(-1,1)\n",
        "  B = np.ravel(b.value)\n",
        "  classificacao = np.sign(np.dot(X, w) + B)\n",
        "\n",
        "  return W.value, b.value, classificacao\n",
        "\n",
        "A3 = primalsm(X1,d1)\n",
        "A4 = primalsm(X2,d2)\n",
        "\n",
        "print(A3)\n",
        "print(A4)"
      ],
      "metadata": {
        "id": "1qcTX2eZ_OAX"
      },
      "execution_count": null,
      "outputs": []
    },
    {
      "cell_type": "code",
      "source": [
        "# Plot\n",
        "X1, d1 = make_blobs(n_samples=20, centers=2, n_features=2,random_state=0)\n",
        "d1 = 2*d1-1\n",
        "\n",
        "X2, d2 = make_blobs(n_samples=100, centers=2, cluster_std =4 , n_features=2,random_state=17)\n",
        "d2 = 2*np.mod(d2,2) -1\n",
        "\n",
        "fig = plt.figure()\n",
        "w = A3[0]; b = A3[1]\n",
        "plt.scatter(X1[:, 0], X1[:, 1], c=d1)\n",
        "plt.plot(X1[:,0], - (w[0]/w[1])*X1[:,0] - b/w[1], color = 'red', label='Hiperplano Ótimo')\n",
        "plt.plot(X1[:,0], - (w[0]/w[1])*X1[:,0] - b/w[1] - 1/w[1], color = 'blue', label='Vetor Suporte')\n",
        "plt.plot(X1[:,0], - (w[0]/w[1])*X1[:,0] - b/w[1] + 1/w[1], color = 'green', label='Vetor Suporte')\n",
        "plt.xlabel('A1')\n",
        "plt.ylabel('B1')\n",
        "plt.title('Hiperplano ótimo encontrado através do problema primal com variável de folga para o primeiro conjunto de dados')\n",
        "plt.legend()\n",
        "plt.show()"
      ],
      "metadata": {
        "id": "H5uia9l-OGc-"
      },
      "execution_count": null,
      "outputs": []
    },
    {
      "cell_type": "markdown",
      "source": [
        "# **Problema Dual - Hard Margin**"
      ],
      "metadata": {
        "id": "mvBTf08A-4zs"
      }
    },
    {
      "cell_type": "code",
      "source": [
        "# Resolução do Problema de Otimização\n",
        "X1, d1 = make_blobs(n_samples=20, centers=2, n_features=2,random_state=0)\n",
        "d1 = 2*d1-1\n",
        "\n",
        "X2, d2 = make_blobs(n_samples=100, centers=2, cluster_std =4 , n_features=2,random_state=17)\n",
        "d2 = 2*np.mod(d2,2) -1\n",
        "\n",
        "def dualhm(X,d):\n",
        "  m,n = X.shape\n",
        "  d = d.reshape(-1,1) * 1.0\n",
        "  Xd = d * X\n",
        "  H = np.dot(Xd , Xd.T) * 1.0\n",
        "\n",
        "  P = cvxopt_matrix(H)\n",
        "  q = cvxopt_matrix(-np.ones((m, 1)))\n",
        "  G = cvxopt_matrix(-np.eye(m))\n",
        "  h = cvxopt_matrix(np.zeros(m))\n",
        "  A = cvxopt_matrix(d.reshape(1, -1))\n",
        "  b = cvxopt_matrix(np.zeros(1))\n",
        "\n",
        "  sol = cvxopt_solvers.qp(P, q, G, h, A, b)\n",
        "  alphas = np.array(sol['x'])\n",
        "\n",
        "  W = ((d * alphas).T @ X).reshape(-1,1)\n",
        "\n",
        "  S = (alphas > 1e-4).flatten()\n",
        "\n",
        "  b = d[S] - np.dot(X[S], W)\n",
        "\n",
        "  classificacao = np.sign(np.dot(X, W) + b[0])\n",
        "\n",
        "  return W, b[0], classificacao\n",
        "\n",
        "A5= dualhm(X1,d1)\n",
        "A6= dualhm(X2,d2)\n",
        "\n",
        "print(A5)\n",
        "print(A6)"
      ],
      "metadata": {
        "id": "nI8-JnlN_NaJ"
      },
      "execution_count": null,
      "outputs": []
    },
    {
      "cell_type": "code",
      "source": [
        "# Plot\n",
        "X1, d1 = make_blobs(n_samples=20, centers=2, n_features=2,random_state=0)\n",
        "d1 = 2*d1-1\n",
        "\n",
        "X2, d2 = make_blobs(n_samples=100, centers=2, cluster_std =4 , n_features=2,random_state=17)\n",
        "d2 = 2*np.mod(d2,2) -1\n",
        "\n",
        "fig = plt.figure()\n",
        "w = A5[0]; b = A5[1]\n",
        "plt.scatter(X1[:, 0], X1[:, 1], c=d1)\n",
        "plt.plot(X1[:,0], - (w[0]/w[1])*X1[:,0] - b/w[1], color = 'red', label = 'Hiperplano Ótimo')\n",
        "plt.plot(X1[:,0], - (w[0]/w[1])*X1[:,0] - b/w[1] - 1/w[1], color = 'blue', label = 'Vetor Suporte')\n",
        "plt.plot(X1[:,0], - (w[0]/w[1])*X1[:,0] - b/w[1] + 1/w[1], color = 'green', label = 'Vetor Suporte')\n",
        "plt.xlabel('A1')\n",
        "plt.ylabel('B1')\n",
        "plt.title('Hiperplano ótimo encontrado através do problema dual para o primeiro conjunto de dados')\n",
        "plt.legend()\n",
        "plt.show()"
      ],
      "metadata": {
        "id": "ZmEnUR-cOf8z"
      },
      "execution_count": null,
      "outputs": []
    },
    {
      "cell_type": "markdown",
      "source": [
        "# **Problema Dual - Soft Margin**"
      ],
      "metadata": {
        "id": "HjSZxiQ6_K1k"
      }
    },
    {
      "cell_type": "code",
      "source": [
        "# Resolução do Problema de Otimização\n",
        "X1, d1 = make_blobs(n_samples=20, centers=2, n_features=2,random_state=0)\n",
        "d1 = 2*d1-1\n",
        "\n",
        "X2, d2 = make_blobs(n_samples=100, centers=2, cluster_std =4 , n_features=2,random_state=17)\n",
        "d2 = 2*np.mod(d2,2) -1\n",
        "\n",
        "def dualsm(X,d):\n",
        "  c = 10\n",
        "  m,n = X.shape\n",
        "  d = d.reshape(-1,1) * 1.0\n",
        "  Xd = d * X\n",
        "  H = np.dot(Xd , Xd.T) * 1.0\n",
        "\n",
        "  P = cvxopt_matrix(H)\n",
        "  q = cvxopt_matrix(-np.ones((m, 1)))\n",
        "  G = cvxopt_matrix(np.vstack((np.eye(m)*-1,np.eye(m))))\n",
        "  h = cvxopt_matrix(np.hstack((np.zeros(m), np.ones(m) * c/m)))\n",
        "  A = cvxopt_matrix(d.reshape(1, -1))\n",
        "  b = cvxopt_matrix(np.zeros(1))\n",
        "\n",
        "  sol = cvxopt_solvers.qp(P, q, G, h, A, b)\n",
        "  alphas = np.array(sol['x'])\n",
        "\n",
        "  W = ((d * alphas).T @ X).reshape(-1,1)\n",
        "  S = (alphas > 1e-4).flatten()\n",
        "  b = d[S] - np.dot(X[S], W)\n",
        "\n",
        "  classificacao = np.sign(np.dot(X, W) + b[0])\n",
        "\n",
        "  return W, b[0], classificacao\n",
        "\n",
        "A7= dualsm(X1,d1)\n",
        "A8= dualsm(X2,d2)\n",
        "\n",
        "print(A7)\n",
        "print(A8)"
      ],
      "metadata": {
        "id": "1co1wZF5-8tM"
      },
      "execution_count": null,
      "outputs": []
    },
    {
      "cell_type": "code",
      "source": [
        "# Plot\n",
        "X1, d1 = make_blobs(n_samples=20, centers=2, n_features=2,random_state=0)\n",
        "d1 = 2*d1-1\n",
        "\n",
        "X2, d2 = make_blobs(n_samples=100, centers=2, cluster_std =4 , n_features=2,random_state=17)\n",
        "d2 = 2*np.mod(d2,2) -1\n",
        "\n",
        "fig = plt.figure()\n",
        "w = A7[0]; b = A7[1]\n",
        "plt.scatter(X1[:, 0], X1[:, 1], c=d1)\n",
        "plt.plot(X1[:,0], - (w[0]/w[1])*X1[:,0] - b/w[1], color = 'red', label = 'Hiperplano Ótimo')\n",
        "plt.plot(X1[:,0], - (w[0]/w[1])*X1[:,0] - b/w[1] - 1/w[1], color = 'blue', label = 'Vetor Suporte')\n",
        "plt.plot(X1[:,0], - (w[0]/w[1])*X1[:,0] - b/w[1] + 1/w[1], color = 'green', label = 'Vetor Suporte')\n",
        "plt.xlabel('A1')\n",
        "plt.ylabel('B1')\n",
        "plt.title('Hiperplano ótimo encontrado através do problema dual com variável de folga para o primeiro conjunto de dados')\n",
        "plt.legend()\n",
        "plt.show()"
      ],
      "metadata": {
        "id": "TL9Ogzg2OiRl"
      },
      "execution_count": null,
      "outputs": []
    },
    {
      "cell_type": "markdown",
      "source": [
        "# **Primeiro conjunto de dados - Sklearn**"
      ],
      "metadata": {
        "id": "cR94FgZMKNwl"
      }
    },
    {
      "cell_type": "code",
      "source": [
        "# Kernel Linear\n",
        "X1, d1 = make_blobs(n_samples=20, centers=2, n_features=2,random_state=0)\n",
        "d1 = 2*d1-1\n",
        "\n",
        "clf = SVC(kernel = 'linear')\n",
        "clf.fit(X1,d1)\n",
        "y = clf.predict(X1)\n",
        "print(accuracy_score(d1,y))\n",
        "\n",
        "disp = DecisionBoundaryDisplay.from_estimator(clf, X1, response_method='predict', alpha=0.5)\n",
        "disp.ax_.scatter(X1[:,0], X1[:,1], c=d1)\n",
        "plt.xlabel('A1')\n",
        "plt.ylabel('B1')"
      ],
      "metadata": {
        "id": "UlT_0UQQKU18"
      },
      "execution_count": null,
      "outputs": []
    },
    {
      "cell_type": "code",
      "source": [
        "# Kernel Polinomial\n",
        "X1, d1 = make_blobs(n_samples=20, centers=2, n_features=2,random_state=0)\n",
        "d1 = 2*d1-1\n",
        "\n",
        "clf = SVC(kernel = 'poly', degree = 3, coef0 = 1)\n",
        "clf.fit(X1,d1)\n",
        "y = clf.predict(X1)\n",
        "print(accuracy_score(d1,y))\n",
        "\n",
        "disp = DecisionBoundaryDisplay.from_estimator(clf, X1, response_method='predict', alpha=0.5)\n",
        "disp.ax_.scatter(X1[:,0], X1[:,1], c=d1)\n",
        "plt.xlabel('A1')\n",
        "plt.ylabel('B1')"
      ],
      "metadata": {
        "id": "AjoKEGyWKcb3"
      },
      "execution_count": null,
      "outputs": []
    },
    {
      "cell_type": "code",
      "source": [
        "# Kernel Gaussiano\n",
        "X1, d1 = make_blobs(n_samples=20, centers=2, n_features=2,random_state=0)\n",
        "d1 = 2*d1-1\n",
        "\n",
        "clf = SVC(kernel = 'rbf', gamma = 0.5)\n",
        "clf.fit(X1,d1)\n",
        "y = clf.predict(X1)\n",
        "print(accuracy_score(d1,y))\n",
        "\n",
        "disp = DecisionBoundaryDisplay.from_estimator(clf, X1, response_method='predict', alpha=0.5)\n",
        "disp.ax_.scatter(X1[:,0], X1[:,1], c=d1)\n",
        "plt.xlabel('A1')\n",
        "plt.ylabel('B1')"
      ],
      "metadata": {
        "id": "7o9tsuJEKciW"
      },
      "execution_count": null,
      "outputs": []
    },
    {
      "cell_type": "code",
      "source": [
        "# Kernel Sigmoidal\n",
        "X1, d1 = make_blobs(n_samples=20, centers=2, n_features=2,random_state=0)\n",
        "d1 = 2*d1-1\n",
        "\n",
        "clf = SVC(kernel = 'sigmoid', coef0 = 9.27)\n",
        "clf.fit(X1,d1)\n",
        "y = clf.predict(X1)\n",
        "print(accuracy_score(d1,y))\n",
        "\n",
        "disp = DecisionBoundaryDisplay.from_estimator(clf, X1, response_method='predict', alpha=0.5)\n",
        "disp.ax_.scatter(X1[:,0], X1[:,1], c=d1)\n",
        "plt.xlabel('A1')\n",
        "plt.ylabel('B1')"
      ],
      "metadata": {
        "id": "JhkE1ptwKcnJ"
      },
      "execution_count": null,
      "outputs": []
    },
    {
      "cell_type": "markdown",
      "source": [
        "# **Segundo conjunto de dados - Sklearn**"
      ],
      "metadata": {
        "id": "RYGSuNbKLDVb"
      }
    },
    {
      "cell_type": "code",
      "source": [
        "# Kernel Linear\n",
        "X2, d2 = make_blobs(n_samples=100, centers=2, cluster_std =4 , n_features=2,random_state=17)\n",
        "d2 = 2*np.mod(d2,2) -1\n",
        "\n",
        "clf = SVC(kernel = 'linear')\n",
        "clf.fit(X2,d2)\n",
        "y = clf.predict(X2)\n",
        "print(accuracy_score(d2,y))\n",
        "\n",
        "disp = DecisionBoundaryDisplay.from_estimator(clf, X2, response_method='predict', alpha=0.5)\n",
        "disp.ax_.scatter(X2[:,0], X2[:,1], c=d2)\n",
        "plt.xlabel('A1')\n",
        "plt.ylabel('B1')"
      ],
      "metadata": {
        "id": "nVkQbfzHKcrp"
      },
      "execution_count": null,
      "outputs": []
    },
    {
      "cell_type": "code",
      "source": [
        "# Kernel Polinomial\n",
        "X2, d2 = make_blobs(n_samples=100, centers=2, cluster_std =4 , n_features=2,random_state=17)\n",
        "d2 = 2*np.mod(d2,2) -1\n",
        "\n",
        "clf = SVC(kernel = 'poly', degree = 8, coef0 = 1, gamma = 1)\n",
        "clf.fit(X2,d2)\n",
        "y = clf.predict(X2)\n",
        "print(accuracy_score(d2,y))\n",
        "\n",
        "disp = DecisionBoundaryDisplay.from_estimator(clf, X2, response_method='predict', alpha=0.5)\n",
        "disp.ax_.scatter(X2[:,0], X2[:,1], c=d2)\n",
        "plt.xlabel('A1')\n",
        "plt.ylabel('B1')"
      ],
      "metadata": {
        "id": "D0DpSWgyK0BD"
      },
      "execution_count": null,
      "outputs": []
    },
    {
      "cell_type": "code",
      "source": [
        "# Kernel Gaussiano\n",
        "X2, d2 = make_blobs(n_samples=100, centers=2, cluster_std =4 , n_features=2,random_state=17)\n",
        "d2 = 2*np.mod(d2,2) -1\n",
        "\n",
        "clf = SVC(kernel = 'rbf', gamma = 0.5)\n",
        "clf.fit(X2,d2)\n",
        "y = clf.predict(X2)\n",
        "print(accuracy_score(d2,y))\n",
        "\n",
        "disp = DecisionBoundaryDisplay.from_estimator(clf, X2, response_method='predict', alpha=0.5)\n",
        "disp.ax_.scatter(X2[:,0], X2[:,1], c=d2)\n",
        "plt.xlabel('A1')\n",
        "plt.ylabel('B1')"
      ],
      "metadata": {
        "id": "QCIdNCx4Ku05"
      },
      "execution_count": null,
      "outputs": []
    },
    {
      "cell_type": "code",
      "source": [
        "# Kernel Sigmoidal\n",
        "X2, d2 = make_blobs(n_samples=100, centers=2, cluster_std =4 , n_features=2,random_state=17)\n",
        "d2 = 2*np.mod(d2,2) -1\n",
        "\n",
        "clf = SVC(kernel = 'sigmoid', coef0 = 1)\n",
        "clf.fit(X2,d2)\n",
        "y = clf.predict(X2)\n",
        "print(accuracy_score(d2,y))\n",
        "\n",
        "disp = DecisionBoundaryDisplay.from_estimator(clf, X2, response_method='predict', alpha=0.5)\n",
        "disp.ax_.scatter(X2[:,0], X2[:,1], c=d2)\n",
        "plt.xlabel('A1')\n",
        "plt.ylabel('B1')"
      ],
      "metadata": {
        "id": "rXw8KElMKu6p"
      },
      "execution_count": null,
      "outputs": []
    },
    {
      "cell_type": "markdown",
      "source": [
        "# **O trabalho acaba aqui! A partir daqui os códigos não foram completamente desenvolvidos/testados**"
      ],
      "metadata": {
        "id": "SkNnB6WnPgxP"
      }
    },
    {
      "cell_type": "markdown",
      "source": [
        "# **Tentativa de Código Próprio - Kernel Polinomial**"
      ],
      "metadata": {
        "id": "B0Yocf_1P8oJ"
      }
    },
    {
      "cell_type": "code",
      "source": [
        "X1, d1 = make_blobs(n_samples=20, centers=2, n_features=2,random_state=0)\n",
        "d1 = 2*d1-1\n",
        "\n",
        "X2, d2 = make_blobs(n_samples=100, centers=2, cluster_std =4 , n_features=2,random_state=17)\n",
        "d2 = 2*np.mod(d2,2) -1\n",
        "\n",
        "def polinomialkernel(x, y, p):\n",
        "    return (1 + np.dot(x, y)) ** p\n",
        "\n",
        "def dualpoli(X,d,p):\n",
        "  c = 100\n",
        "  m,n = X.shape\n",
        "  d = d.reshape(-1,1) * 1.0\n",
        "\n",
        "  K = np.zeros((m, m))\n",
        "  for i in range(m):\n",
        "    for j in range(m):\n",
        "      K[i,j] = polinomialkernel(X[i], X[j], p)\n",
        "\n",
        "  P = cvxopt_matrix(np.outer(d,d) * K)\n",
        "  q = cvxopt_matrix(-np.ones((m, 1)))\n",
        "  G = cvxopt_matrix(np.vstack((np.eye(m)*-1,np.eye(m))))\n",
        "  h = cvxopt_matrix(np.hstack((np.zeros(m), np.ones(m) * c)))\n",
        "  A = cvxopt_matrix(d.reshape(1, -1))\n",
        "  b = cvxopt_matrix(np.zeros(1))\n",
        "\n",
        "  sol = cvxopt_solvers.qp(P, q, G, h, A, b)\n",
        "  alphas = np.array(sol['x'])\n",
        "\n",
        "  S = (alphas > 1e-4).flatten()\n",
        "  dVS = d[S]\n",
        "  XVS = X[S]\n",
        "  alphasVS = alphas[S]\n",
        "  h = len(alphasVS)\n",
        "\n",
        "  k = np.zeros((h, h))\n",
        "  for i in range(h):\n",
        "    for j in range(h):\n",
        "      k[i,j] = polinomialkernel(XVS[i], XVS[j], p)\n",
        "\n",
        "  bias = np.mean(dVS - alphasVS*dVS*k)\n",
        "\n",
        "  classificacao = np.sign(K @ (alphas*d) + bias)\n",
        "\n",
        "  return alphas, bias, classificacao"
      ],
      "metadata": {
        "id": "o827br2NPv25"
      },
      "execution_count": null,
      "outputs": []
    },
    {
      "cell_type": "code",
      "source": [
        "X1, d1 = make_blobs(n_samples=20, centers=2, n_features=2,random_state=0)\n",
        "d1 = 2*d1-1\n",
        "\n",
        "X2, d2 = make_blobs(n_samples=100, centers=2, cluster_std =4 , n_features=2,random_state=17)\n",
        "d2 = 2*np.mod(d2,2) -1\n",
        "\n",
        "\n",
        "def dualpoli(X,d,p):\n",
        "  c = 0.01\n",
        "  m,n = X.shape\n",
        "  d = d.reshape(-1,1) * 1.0\n",
        "\n",
        "  K = (1 + np.dot(X, X.T)) ** p\n",
        "\n",
        "  P = cvxopt_matrix(np.outer(d,d) * K)\n",
        "  q = cvxopt_matrix(-np.ones((m, 1)))\n",
        "  G = cvxopt_matrix(np.vstack((np.eye(m)*-1,np.eye(m))))\n",
        "  h = cvxopt_matrix(np.hstack((np.zeros(m), np.ones(m) * c)))\n",
        "  A = cvxopt_matrix(d.reshape(1, -1))\n",
        "  b = cvxopt_matrix(np.zeros(1))\n",
        "\n",
        "  sol = cvxopt_solvers.qp(P, q, G, h, A, b)\n",
        "  alphas = np.array(sol['x'])\n",
        "\n",
        "  S = (alphas > 1e-4).flatten()\n",
        "  dVS = d[S]\n",
        "  XVS = X[S]\n",
        "  alphasVS = alphas[S]\n",
        "  h = len(alphasVS)\n",
        "\n",
        "  k = (1 + np.dot(XVS, XVS.T)) ** p\n",
        "\n",
        "  bias = np.mean(dVS - alphasVS*dVS*k)\n",
        "\n",
        "  classificacao = np.sign(K @ (alphas*d) + bias)\n",
        "\n",
        "  return alphas, bias, classificacao"
      ],
      "metadata": {
        "id": "A_ayJ3scQUJv"
      },
      "execution_count": null,
      "outputs": []
    },
    {
      "cell_type": "markdown",
      "source": [
        "# **Tentativa de Código Próprio - Kernel Gaussiano**"
      ],
      "metadata": {
        "id": "coP3TstMPyZ0"
      }
    },
    {
      "cell_type": "code",
      "source": [
        "X1, d1 = make_blobs(n_samples=20, centers=2, n_features=2,random_state=0)\n",
        "d1 = 2*d1-1\n",
        "\n",
        "X2, d2 = make_blobs(n_samples=100, centers=2, cluster_std =4 , n_features=2,random_state=17)\n",
        "d2 = 2*np.mod(d2,2) -1\n",
        "\n",
        "def gaussiankernel(x, y, sigma):\n",
        "    return np.exp(-np.linalg.norm(x-y)**2 / (2 * (sigma ** 2)))\n",
        "\n",
        "def dualgau(X,d,sigma):\n",
        "  c = 0.01\n",
        "  m,n = X.shape\n",
        "  d = d.reshape(-1,1) * 1.0\n",
        "\n",
        "  K = np.zeros((m, m))\n",
        "  for i in range(m):\n",
        "    for j in range(m):\n",
        "      K[i,j] = gaussiankernel(X[i], X[j], sigma)\n",
        "\n",
        "  P = cvxopt_matrix(np.outer(d,d) * K)\n",
        "  q = cvxopt_matrix(-np.ones((m, 1)))\n",
        "  G = cvxopt_matrix(np.vstack((np.eye(m)*-1,np.eye(m))))\n",
        "  h = cvxopt_matrix(np.hstack((np.zeros(m), np.ones(m) * c)))\n",
        "  A = cvxopt_matrix(d.reshape(1, -1))\n",
        "  b = cvxopt_matrix(np.zeros(1))\n",
        "\n",
        "  sol = cvxopt_solvers.qp(P, q, G, h, A, b)\n",
        "  alphas = np.array(sol['x'])\n",
        "\n",
        "  S = (alphas > 1e-4).flatten()\n",
        "  dVS = d[S]\n",
        "  XVS = X[S]\n",
        "  alphasVS = alphas[S]\n",
        "  h = len(alphasVS)\n",
        "\n",
        "  k1 = np.zeros((h, h))\n",
        "  for i in range(h):\n",
        "    for j in range(h):\n",
        "      k1[i,j] = gaussiankernel(XVS[i], XVS[j], sigma)\n",
        "\n",
        "  bias = np.mean(dVS - alphasVS*dVS*k1)\n",
        "\n",
        "  classificacao = np.sign(K @ (alphas*d) + bias)\n",
        "\n",
        "  return alphas, bias, classificacao\n",
        "\n",
        "A11= dualgau(X1,d1,1)\n",
        "A12= dualgau(X2,d2,1)\n",
        "\n",
        "print(A11, A12)"
      ],
      "metadata": {
        "id": "uYp7Spm7Pv-W"
      },
      "execution_count": null,
      "outputs": []
    },
    {
      "cell_type": "code",
      "source": [
        "# Testando Acurácia\n",
        "f = A12[2].flatten() == d2.flatten()\n",
        "print(f)\n",
        "\n",
        "acc = np.sum(f)/len(f)\n",
        "print(acc)"
      ],
      "metadata": {
        "id": "kme2TrIzQqxp"
      },
      "execution_count": null,
      "outputs": []
    }
  ]
}
